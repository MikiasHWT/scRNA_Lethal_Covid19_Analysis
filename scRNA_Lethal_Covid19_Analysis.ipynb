{
 "cells": [
  {
   "cell_type": "code",
   "execution_count": 4,
   "metadata": {},
   "outputs": [
    {
     "data": {
      "text/html": [
       "\n",
       "<h1 style=\"text-align:center;\">scRNA Lethal COVID19 Analysis</h1>\n",
       "<br/>\n",
       "<h3 style=\"text-align:left;\">MikiasHWT</h3>\n",
       "<h3 style=\"text-align:left;\">December 09, 2024</h3>\n"
      ],
      "text/plain": [
       "<IPython.core.display.HTML object>"
      ]
     },
     "metadata": {},
     "output_type": "display_data"
    }
   ],
   "source": [
    "from IPython.display import display, HTML\n",
    "from datetime import datetime\n",
    "\n",
    "# Define the notebook title\n",
    "Notebook_title = \"scRNA Lethal COVID19 Analysis\"\n",
    "\n",
    "# Get the current date\n",
    "current_date = datetime.now().strftime(\"%B %d, %Y\")\n",
    "\n",
    "# Create the HTML string with title, date, and author\n",
    "html_content = f\"\"\"\n",
    "<h1 style=\"text-align:center;\">{Notebook_title}</h1>\n",
    "<br/>\n",
    "<h3 style=\"text-align:left;\">MikiasHWT</h3>\n",
    "<h3 style=\"text-align:left;\">{current_date}</h3>\n",
    "\"\"\"\n",
    "\n",
    "# Display the HTML content in the output\n",
    "display(HTML(html_content))\n"
   ]
  },
  {
   "cell_type": "markdown",
   "metadata": {},
   "source": [
    "# Background\n",
    "As of November 2024, the [World health Organization](https://data.who.int/dashboards/covid19/cases) reported 777 million (103 million in the US) confirmed cases of severe acute respiratory syndrome coronavirus 2 (SARS-CoV-2) worldwide, with over 7 million deaths (1.2 million in the US). This coronavirus, commonly known as COVID-19, has had a profound impact on global health, economies, and societies.In this project, I aim to replicate the analyses from the paper [\"A molecular single-cell lung atlas of lethal COVID-19\"](https://www.nature.com/articles/s41586-021-03569-1#data-availability). \n",
    "\n",
    "The original paper provides an in-depth examination of the cellular and molecular alterations in the lungs of individuals who died of COVID-19, utilizing single-nucleus RNA sequencing to analyze lung tissue from 19 patients (12M, 7F, mediage age 72) who died of COVID-19 and biopsy or resection samples from 7 pre-pandemic controls (4M, 3F, median age 70)."
   ]
  },
  {
   "cell_type": "markdown",
   "metadata": {},
   "source": [
    "## Objectives\n",
    "By replicating the various analyses performed by the original authors, I intend to recapitulate the original findings and further explore the pathophysiology of lethal COVID-19. \n",
    "\n",
    "This will include:\n",
    "- Process single-cell RNA sequencing data using sensible quality control metrics.\n",
    "- Cluster and integrate immune cell populations between healthy and COVID-19 samples. \n",
    "- Identify and label immune cell using gene expression profiles and activation states\n",
    "- Characterize differences in cell infilitration, proportions and activation states between healthy and COVID-19 samples. \n",
    "\n",
    "The ultimate goal of this project is to enhance my understanding of the cellular and molecular mechanisms underlying severe COVID-19."
   ]
  },
  {
   "cell_type": "markdown",
   "metadata": {},
   "source": [
    "# Data Source\n",
    "The data was made publicly avaible in Gene Expression Omnibus, under [GSE171524](https://www.ncbi.nlm.nih.gov/geo/query/acc.cgi?acc=GSE171524). \n",
    "I have downloaded the TAR file to a local folder and extracted the CSV files containing the data usuing 7-Zip. "
   ]
  },
  {
   "cell_type": "markdown",
   "metadata": {},
   "source": [
    "## Tissue Collection\n",
    "Tissue samples from lethal COVID-19 patients were collected with consent, from New York Presbyterian Hospital or Columbia University Medical Center. Samples were tested for COVID-19 using reverse transcription quantitative polymerace chain reaction (RT-qPCR) and the regions of interest were selected based on pathological review of adjecent Haematoxylin and Eosin (H&E) stained, Formalin-Fixed Parafin-Embedded (FFPE) slides. 1 cm^3 samples were snap frozen in liquid nitrogen, and embedded in Optimal Cutting Temperature (OCT) compound in -80C freezers until processing. "
   ]
  },
  {
   "cell_type": "markdown",
   "metadata": {},
   "source": [
    "## Tissue Processing\n",
    "In preperation for single-nucleus RNA sequencing tissues were: \n",
    "- Rinced of OCT in ice-cold Phosphate Buffered Saline (PBS).\n",
    "- Mechanically dissociated with fine scissors and pipettes in a buffer containing Tween surfactant (and RNase Inhibitor) to aid in dissociation of cells and extraction of nuclei. \n",
    "- Washed in Tris salt containing buffer and filetered with 70um cell strainers followed by pelleting at 500g and resuspension in an appropriate amount of Tris buffered solution. \n",
    "- Cells were counted by secondary investigator uninvoled with tissue processing before 15,000-20,000 nuclei were loaded per channel on a Chromium controller using Chromium Next GEM Single Cell 3ʹ v3.1 reagents. \n"
   ]
  },
  {
   "cell_type": "markdown",
   "metadata": {},
   "source": [
    "## Library Preparation & Sequencing \n",
    "\n",
    "Chromium Next GEM Single Cell 3ʹ v3.1 reagents were used to prepare single-nucleus RNA-seq libraries, mostly according to manufacturers recomendation. One additional cDNA amplificiation cycle was included to account for lower RNA yields from nuclei as compared to whole-cell RNA extractions. RNA libraries and cDNA were quantified using D1000 TapeStation and Qubit HS DNA quantification kit. Finally the libraries were pooled in an equimolar mixture and sequenced on a NovaSeq 6000 with S4 flow cell, usuing paired-end, single-index sequencing."
   ]
  },
  {
   "cell_type": "markdown",
   "metadata": {},
   "source": [
    "## Data Preprocessing\n",
    "\n",
    "- Raw 3' scRNA-seq data was demultiplexed using Cell Ranger (v5.0).\n",
    "- Trancripts were alligned using a COVID-19 appended human reference genome (GRCh38).\n",
    "- Ambient RNA was removed using CellBender (v.0.2.0). \n",
    "- Expression matrices were procused using Seurat (v.3.2.3). \n",
    "- The following filters were applied to keep nuclei with:\n",
    "    - 200-7500 genes. \n",
    "    - 400-40,000 Unique Molecular Idenitifier(UMI's).\n",
    "    - <10% Mitochondrial reads. \n",
    "- Scrublet was applied with a predicted rate of 4-9.6% to remove nuclei doublets.  "
   ]
  },
  {
   "cell_type": "markdown",
   "metadata": {},
   "source": [
    "# Prep Workplace"
   ]
  },
  {
   "cell_type": "markdown",
   "metadata": {},
   "source": [
    "## Import Libraries"
   ]
  },
  {
   "cell_type": "code",
   "execution_count": 5,
   "metadata": {},
   "outputs": [],
   "source": [
    "import numpy as np  # Numerical computing library\n",
    "import pandas as pd  # Data manipulation and analysis\n",
    "import matplotlib.pyplot as plt  # Plotting and visualization\n",
    "import seaborn as sns  # Statistical data visualization\n",
    "import scanpy as sc  # Single-cell data analysis\n",
    "import scvi  # Single-cell variational inference for modeling\n",
    "from scipy.stats import median_abs_deviation  # Robust statistic for dispersion\n",
    "import os  # Operating system interface"
   ]
  },
  {
   "cell_type": "markdown",
   "metadata": {},
   "source": [
    "## Directories"
   ]
  },
  {
   "cell_type": "code",
   "execution_count": 6,
   "metadata": {},
   "outputs": [
    {
     "name": "stdout",
     "output_type": "stream",
     "text": [
      "Contents of c:\\Users\\Owner\\Documents\\GitHub\\scRNA_Lethal_Covid19_Analysis\\data:\n",
      "GSE171524_RAW\n",
      "GSE171524_RAW.tar\n",
      "Supplementary_Table1_Clinical_Information.xlsx \n",
      "\n",
      "Contents of c:\\Users\\Owner\\Documents\\GitHub\\scRNA_Lethal_Covid19_Analysis\\output:\n",
      "Directory is empty \n",
      "\n"
     ]
    }
   ],
   "source": [
    "# Define directories \n",
    "datDir = os.path.abspath(\"data\")\n",
    "outDir = os.path.abspath(\"output\")\n",
    "\n",
    "# List their contents. \n",
    "for path in [datDir, outDir]:\n",
    "    # os.makedirs(path, exist_ok=True)   # Optional: Create directories if they dont exist\n",
    "    print(f\"Contents of {path}:\")\n",
    "    print(\"\\n\".join(os.listdir(path)) or \"Directory is empty\", \"\\n\")"
   ]
  },
  {
   "cell_type": "markdown",
   "metadata": {},
   "source": [
    "# Import Data"
   ]
  },
  {
   "cell_type": "markdown",
   "metadata": {},
   "source": [
    "The original authors utilized R programming and Seurat package to analyze and prepare their data. This requires some consideration as we import data processed in R into an Python envirnment, as Seurat sets genes as the rows and cells as the columns while Scanpy reverses this orientation. This can be resolved by transposing the CSV files as we import them. "
   ]
  },
  {
   "cell_type": "code",
   "execution_count": 18,
   "metadata": {},
   "outputs": [
    {
     "data": {
      "text/plain": [
       "AnnData object with n_obs × n_vars = 6099 × 34546"
      ]
     },
     "execution_count": 18,
     "metadata": {},
     "output_type": "execute_result"
    }
   ],
   "source": [
    "# Read csv files into Anndata object\n",
    "adata = sc.read_csv(\"data/GSE171524_RAW/csv/GSM5226574_C51ctr_raw_counts.csv\").T\n",
    "adata"
   ]
  },
  {
   "cell_type": "code",
   "execution_count": 24,
   "metadata": {},
   "outputs": [
    {
     "name": "stdout",
     "output_type": "stream",
     "text": [
      "This sample has 6099 cells and 34546 transcripts\n"
     ]
    }
   ],
   "source": [
    "print(f\"This sample has {adata.X.shape[0]} cells and {adata.X.shape[1]} transcripts\")"
   ]
  },
  {
   "cell_type": "code",
   "execution_count": null,
   "metadata": {},
   "outputs": [
    {
     "data": {
      "text/html": [
       "<div>\n",
       "<style scoped>\n",
       "    .dataframe tbody tr th:only-of-type {\n",
       "        vertical-align: middle;\n",
       "    }\n",
       "\n",
       "    .dataframe tbody tr th {\n",
       "        vertical-align: top;\n",
       "    }\n",
       "\n",
       "    .dataframe thead th {\n",
       "        text-align: right;\n",
       "    }\n",
       "</style>\n",
       "<table border=\"1\" class=\"dataframe\">\n",
       "  <thead>\n",
       "    <tr style=\"text-align: right;\">\n",
       "      <th></th>\n",
       "    </tr>\n",
       "  </thead>\n",
       "  <tbody>\n",
       "    <tr>\n",
       "      <th>TAGGTACCATGGCCAC-1_1</th>\n",
       "    </tr>\n",
       "    <tr>\n",
       "      <th>ATTCACTGTAACAGGC-1_1</th>\n",
       "    </tr>\n",
       "    <tr>\n",
       "      <th>TAACTTCCAACCACGC-1_1</th>\n",
       "    </tr>\n",
       "    <tr>\n",
       "      <th>TTGGGTACACGACAAG-1_1</th>\n",
       "    </tr>\n",
       "    <tr>\n",
       "      <th>AGGCCACAGAGTCACG-1_1</th>\n",
       "    </tr>\n",
       "    <tr>\n",
       "      <th>...</th>\n",
       "    </tr>\n",
       "    <tr>\n",
       "      <th>CGCCATTGTTTGCCGG-1_1</th>\n",
       "    </tr>\n",
       "    <tr>\n",
       "      <th>CACTGGGGTCTACGTA-1_1</th>\n",
       "    </tr>\n",
       "    <tr>\n",
       "      <th>CATACTTGTAGAGGAA-1_1</th>\n",
       "    </tr>\n",
       "    <tr>\n",
       "      <th>TTTGGTTTCCACGGAC-1_1</th>\n",
       "    </tr>\n",
       "    <tr>\n",
       "      <th>ATGCATGAGTCATGAA-1_1</th>\n",
       "    </tr>\n",
       "  </tbody>\n",
       "</table>\n",
       "<p>6099 rows × 0 columns</p>\n",
       "</div>"
      ],
      "text/plain": [
       "Empty DataFrame\n",
       "Columns: []\n",
       "Index: [TAGGTACCATGGCCAC-1_1, ATTCACTGTAACAGGC-1_1, TAACTTCCAACCACGC-1_1, TTGGGTACACGACAAG-1_1, AGGCCACAGAGTCACG-1_1, CACTGAAGTCGAAGCA-1_1, ACTGATGTCTGCACCT-1_1, TTACCGCCACTCAGAT-1_1, TTGGTTTTCCTAGCTC-1_1, TGGGAAGTCAGTGATC-1_1, CCACGAGTCTCTTAAC-1_1, ACTTCCGCACAACGCC-1_1, GGGAAGTAGCGACCCT-1_1, TGGTAGTTCCCGTGTT-1_1, CGCATAACATGCCGGT-1_1, TCTATCACAAGGCTTT-1_1, ATCCACCAGAGGTATT-1_1, TAACGACAGATGACCG-1_1, TCTTAGTGTATGAGGC-1_1, CACTTCGCAGTACTAC-1_1, GTCAAACAGAACGTGC-1_1, GCAACCGAGGGCAGGA-1_1, CATACTTTCATCACTT-1_1, AAGAACATCGGATTAC-1_1, GGGTATTGTACGATGG-1_1, CTGTAGATCAACGTGT-1_1, GTCATTTGTATCTCGA-1_1, CCTTGTGCAGAGGGTT-1_1, AAGTTCGCAACACGTT-1_1, TCATTCACAAATCAAG-1_1, TCCATGCCAACGACTT-1_1, TCCTTCTCAGTTTCAG-1_1, TGTGAGTCAAATGATG-1_1, AAACGAAGTACAGAGC-1_1, CAACCAAAGTATTCCG-1_1, CTTCTCTCAGAGACTG-1_1, TACAACGGTGGCTGAA-1_1, AACGGGACATGCCGGT-1_1, AACCAACGTTGGGAAC-1_1, TATATCCAGCGTCAGA-1_1, AGACAAACATCCCGTT-1_1, ATGACCAGTCTTCATT-1_1, CTTACCGTCAGACATC-1_1, CGGGACTGTTAGTTCG-1_1, ATTCATCCACTGAGTT-1_1, TCATGAGAGAGGCGGA-1_1, TCCCACATCTAGTACG-1_1, CTTCCTTCATATCTCT-1_1, CCGGACACACTCGATA-1_1, ACACGCGCACCTGTCT-1_1, GAATCGTCAGAAGTGC-1_1, GGTGGCTCAAGCTCTA-1_1, CCTGCATCACATATGC-1_1, GTGGGAAGTTAAAGTG-1_1, CGTTCTGGTACTAGCT-1_1, ACCCTCACAATAGTCC-1_1, GCCCGAACAAACTAAG-1_1, GTGGAAGCACATGACT-1_1, GTTGTGACATCGATAC-1_1, GACAGCCCAGGTCCGT-1_1, TAAGCACGTTGGCTAT-1_1, GGGACAAGTCACCACG-1_1, CTGGCAGGTTCGGTAT-1_1, GACTCAACACTGTGAT-1_1, GCCAGTGGTGTGGTCC-1_1, TCTAACTGTAGGCAGT-1_1, GAAGAATGTAGCTTGT-1_1, TCACTCGCAATCTCTT-1_1, CAAGACTTCCCACAGG-1_1, CAGATACGTGACTCTA-1_1, TGGGATTAGAGGGTCT-1_1, ACCTGAACACTCCTTG-1_1, GACACGCCACTCGATA-1_1, CTCATCGTCACCGCTT-1_1, AGGTAGGGTCCCTGTT-1_1, TACCCGTCAACACTAC-1_1, TGCTGAAAGACGGATC-1_1, ACACCAACACAACGCC-1_1, AAGATAGCAAATGGAT-1_1, CTTCAATGTGACAGGT-1_1, GAAGCGAAGAGTTGAT-1_1, GCCGTGACACAAGCCC-1_1, CCTCAACCATACAGGG-1_1, ACAAAGATCCACAGGC-1_1, CAGATACAGTCCCAGC-1_1, GGCAGTCTCCGGTTCT-1_1, TAAGTCGAGCTGAGCA-1_1, GAGACCCGTCTGTGCG-1_1, TAACACGCATGTGTCA-1_1, TCAATTCGTTCTCGCT-1_1, GCTTTCGCACAGTGTT-1_1, AACCAACAGATAACAC-1_1, ATCGGCGCACATCATG-1_1, TCATCCGCACGAGGAT-1_1, CTGATCCTCTTTACAC-1_1, TCACACCCAACTTCTT-1_1, TGAGGGACACCGTACG-1_1, GTGCACGTCATCTGTT-1_1, GGTAATCAGTTGCATC-1_1, ATACTTCCAAGGTCTT-1_1, ...]\n",
       "\n",
       "[6099 rows x 0 columns]"
      ]
     },
     "execution_count": 20,
     "metadata": {},
     "output_type": "execute_result"
    }
   ],
   "source": [
    "# View cell barcodes\n",
    "adata.obs "
   ]
  },
  {
   "cell_type": "code",
   "execution_count": 25,
   "metadata": {},
   "outputs": [
    {
     "data": {
      "text/html": [
       "<div>\n",
       "<style scoped>\n",
       "    .dataframe tbody tr th:only-of-type {\n",
       "        vertical-align: middle;\n",
       "    }\n",
       "\n",
       "    .dataframe tbody tr th {\n",
       "        vertical-align: top;\n",
       "    }\n",
       "\n",
       "    .dataframe thead th {\n",
       "        text-align: right;\n",
       "    }\n",
       "</style>\n",
       "<table border=\"1\" class=\"dataframe\">\n",
       "  <thead>\n",
       "    <tr style=\"text-align: right;\">\n",
       "      <th></th>\n",
       "    </tr>\n",
       "  </thead>\n",
       "  <tbody>\n",
       "    <tr>\n",
       "      <th>AL627309.1</th>\n",
       "    </tr>\n",
       "    <tr>\n",
       "      <th>AL627309.5</th>\n",
       "    </tr>\n",
       "    <tr>\n",
       "      <th>AL627309.4</th>\n",
       "    </tr>\n",
       "    <tr>\n",
       "      <th>AL669831.2</th>\n",
       "    </tr>\n",
       "    <tr>\n",
       "      <th>LINC01409</th>\n",
       "    </tr>\n",
       "    <tr>\n",
       "      <th>...</th>\n",
       "    </tr>\n",
       "    <tr>\n",
       "      <th>VN1R2</th>\n",
       "    </tr>\n",
       "    <tr>\n",
       "      <th>AL031676.1</th>\n",
       "    </tr>\n",
       "    <tr>\n",
       "      <th>SMIM34A</th>\n",
       "    </tr>\n",
       "    <tr>\n",
       "      <th>AL050402.1</th>\n",
       "    </tr>\n",
       "    <tr>\n",
       "      <th>AL445072.1</th>\n",
       "    </tr>\n",
       "  </tbody>\n",
       "</table>\n",
       "<p>34546 rows × 0 columns</p>\n",
       "</div>"
      ],
      "text/plain": [
       "Empty DataFrame\n",
       "Columns: []\n",
       "Index: [AL627309.1, AL627309.5, AL627309.4, AL669831.2, LINC01409, FAM87B, LINC01128, LINC00115, FAM41C, AL645608.6, AL645608.2, LINC02593, SAMD11, NOC2L, KLHL17, PLEKHN1, PERM1, AL645608.7, HES4, ISG15, AL645608.1, AGRN, C1orf159, AL390719.3, LINC01342, AL390719.2, TTLL10-AS1, TTLL10, TNFRSF18, TNFRSF4, SDF4, B3GALT6, C1QTNF12, UBE2J2, LINC01786, SCNN1D, ACAP3, PUSL1, INTS11, AL139287.1, CPTP, DVL1, MXRA8, AURKAIP1, CCNL2, MRPL20-AS1, MRPL20, AL391244.2, ANKRD65, AL391244.1, LINC01770, VWA1, ATAD3C, ATAD3B, ATAD3A, TMEM240, SSU72, AL645728.1, FNDC10, AL691432.4, AL691432.2, MIB2, MMP23B, CDK11B, FO704657.1, SLC35E2B, CDK11A, SLC35E2A, NADK, GNB1, AL109917.1, CALML6, TMEM52, CFAP74, GABRD, AL391845.1, PRKCZ, AL590822.2, PRKCZ-AS1, FAAP20, AL590822.1, SKI, AL590822.3, MORN1, AL589739.1, AL513477.2, RER1, PEX10, PLCH2, AL139246.4, PANK4, HES5, AL139246.5, TNFRSF14-AS1, TNFRSF14, AL139246.3, PRXL2B, MMEL1, TTC34, AC242022.2, ...]\n",
       "\n",
       "[34546 rows x 0 columns]"
      ]
     },
     "execution_count": 25,
     "metadata": {},
     "output_type": "execute_result"
    }
   ],
   "source": [
    "# View transcripts (genes)\n",
    "adata.var"
   ]
  },
  {
   "cell_type": "code",
   "execution_count": 22,
   "metadata": {},
   "outputs": [
    {
     "data": {
      "text/plain": [
       "array([[0., 0., 0., ..., 0., 0., 0.],\n",
       "       [0., 0., 0., ..., 0., 0., 0.],\n",
       "       [0., 0., 0., ..., 0., 0., 0.],\n",
       "       ...,\n",
       "       [0., 0., 0., ..., 0., 0., 0.],\n",
       "       [0., 0., 0., ..., 0., 0., 0.],\n",
       "       [0., 0., 0., ..., 0., 0., 0.]], dtype=float32)"
      ]
     },
     "execution_count": 22,
     "metadata": {},
     "output_type": "execute_result"
    }
   ],
   "source": [
    "# View count matrix\n",
    "adata.X"
   ]
  },
  {
   "cell_type": "markdown",
   "metadata": {},
   "source": [
    "# Quality Control\n",
    "Unlike Bulk RNA sequencing, single cell RNA sequencing results in far fewer data points, leading to an excessive number of zero's in the count matrix. In addition, the requirement to isolate each cell or nuclei into its own sequencing bead can be difficult to acomplish especially for stromal tissues like epithelial cell and adherent immune cells such as myeloid cells. Not to mention that many cell types such as Neutrophils are infamous for low RNA quanitity and high sensitivity to processing steps. \n",
    "\n",
    "In essence, before we receive data in a count matrix, many considerations must be given to prevent biases in processing. Once the cells have been sequenced, additional consideration must be given to ensure that the appropriate quality control metrics are applied according to processing steps, cells and tissues of interest as well as the scientific question at hand. \n",
    "\n",
    "The original authors performed various quality control methods to filter out low quality reads and doublets. For the sake of posterity, I will inspect the quality of these sample and set additional QC metrics where neccesary. \n",
    "\n",
    "The standard approach for quality control of scRNA data requies that we inspect the following metrics. \n",
    "- The number of counts per barcode (count depth)\n",
    "- The number of genes per barcode\n",
    "- The fraction of counts from mitochondrial genes per barcode\n",
    "\n",
    "It is generally recomended to be permissive while filtering cells as to avoid eliminating viable populations. "
   ]
  },
  {
   "cell_type": "markdown",
   "metadata": {},
   "source": [
    "## Objective\n",
    "By exploring the data and applying QC metrics I aim to:\n",
    "\n",
    "- Remove reads from nuclei extracted from dead or dying cells. \n",
    "- Remove reads from empty droplets. \n",
    "- Remove reads from droplets with more than one nuclei. \n",
    "- Remove reads containing contaminating/ambient RNA.\n"
   ]
  },
  {
   "cell_type": "markdown",
   "metadata": {},
   "source": [
    "## Create QC Metrics"
   ]
  },
  {
   "cell_type": "markdown",
   "metadata": {},
   "source": [
    "**Gene Metrics:** \n",
    "- `n_cells_by_counts`: The number of cells in which a given gene (feature) is expressed.\n",
    "    - Identifies whether a gene is highly or lowly expressed.\n",
    "\n",
    "- `mean_counts`: The mean expression of a gene across all cells.\n",
    "\n",
    "- `log1p_mean_counts`: The pseudo logarithm (1+count) of mean_counts.\n",
    "    - Used for visualization or comparison when data ranges are large.\n",
    "\n",
    "- `pct_dropout_by_counts`: The percentage of cells in which a given gene has zero expression.\n",
    "    - Identifies genes that are rarely expressed and may not be informative.\n",
    "\n",
    "**Cell Metrics:** \n",
    "- `n_genes_by_counts`: The number of genes with non-zero expression in each cell.\n",
    "    - Indicates the diversity of gene expression in a cell and is commonly used to filter low-quality cells.\n",
    "    \n",
    "- `total_counts`: The total number of counts (sum of all gene expressions) for each cell.\n",
    "    - Reflects library size or sequencing depth and is used to identify cells with abnormal counts.\n",
    "\n",
    "- `pct_counts_in_top_20_genes`: The percentage of total counts contributed by the top 20 most highly expressed genes.\n",
    "    - Identifies cells dominated by a small number of genes, which can indicate low quality or cell-specific biological properties.\n",
    "\n",
    "**Mitochondrial Gene Metrics:**\n",
    "- `total_counts_mt`: The total counts from mitochondrial genes for each cell.\n",
    "    - Indicates the mitochondrial content in a cell, often used as a proxy for cell health.\n",
    "\n",
    "- `pct_counts_mt`: The percentage of total counts from mitochondrial genes.\n",
    "\n",
    "**Ribosomal Gene Metrics:**\n",
    "- `total_counts_ribo`: The total counts from ribosomal genes for each cell.\n",
    "    - Indicates ribosomal RNA expression, which may identify cells in various stages of replication.\n",
    "    - Depending on question at hand, it may be beneficial to threshold using this metric. \n",
    "\n",
    "- `pct_counts_ribo`: The percentage of total counts from ribosomal genes.\n",
    "\n",
    "**Hemoglobin Gene Metrics:**\n",
    "- `total_counts_hb`: The total counts from hemoglobin genes for each cell.\n",
    "    - High expression could indicate improper red cell removal during processing.\n",
    "    - Depending on the question at hand, it may be useful to remove red cell contamination. Alternively, red blood cells can be used to verify if clustering is being performed correctly.  \n",
    "\n",
    "- `pct_counts_hb`: The percentage of total counts from hemoglobin genes."
   ]
  },
  {
   "cell_type": "code",
   "execution_count": 28,
   "metadata": {},
   "outputs": [],
   "source": [
    "# Define variables to idenitify known gene subsets\n",
    "# mitochondrial genes (\"MT-\"\" for human, \"mt-\" for mouse)\n",
    "adata.var[\"mt\"] = adata.var_names.str.startswith(\"MT-\")\n",
    "# ribosomal genes\n",
    "adata.var[\"ribo\"] = adata.var_names.str.startswith((\"RPS\", \"RPL\"))\n",
    "# hemoglobin genes.\n",
    "adata.var[\"hb\"] = adata.var_names.str.contains((\"^HB[^(P)]\"))"
   ]
  },
  {
   "cell_type": "code",
   "execution_count": null,
   "metadata": {},
   "outputs": [
    {
     "data": {
      "text/plain": [
       "AnnData object with n_obs × n_vars = 6099 × 34546\n",
       "    obs: 'n_genes_by_counts', 'log1p_n_genes_by_counts', 'total_counts', 'log1p_total_counts', 'pct_counts_in_top_20_genes', 'total_counts_mt', 'log1p_total_counts_mt', 'pct_counts_mt', 'total_counts_ribo', 'log1p_total_counts_ribo', 'pct_counts_ribo', 'total_counts_hb', 'log1p_total_counts_hb', 'pct_counts_hb'\n",
       "    var: 'mt', 'ribo', 'hb', 'n_cells_by_counts', 'mean_counts', 'log1p_mean_counts', 'pct_dropout_by_counts', 'total_counts', 'log1p_total_counts'"
      ]
     },
     "execution_count": 30,
     "metadata": {},
     "output_type": "execute_result"
    }
   ],
   "source": [
    "# Calculate QC metrics\n",
    "sc.pp.calculate_qc_metrics(\n",
    "    adata, \n",
    "    qc_vars=[\"mt\", \"ribo\", \"hb\"], \n",
    "    inplace=True, \n",
    "    percent_top=[20], # finds cumulative precentage of total counts produced by top 20 expressed genes\n",
    "    log1p=True\n",
    ")\n",
    "adata"
   ]
  },
  {
   "cell_type": "code",
   "execution_count": null,
   "metadata": {},
   "outputs": [
    {
     "data": {
      "text/html": [
       "<div>\n",
       "<style scoped>\n",
       "    .dataframe tbody tr th:only-of-type {\n",
       "        vertical-align: middle;\n",
       "    }\n",
       "\n",
       "    .dataframe tbody tr th {\n",
       "        vertical-align: top;\n",
       "    }\n",
       "\n",
       "    .dataframe thead th {\n",
       "        text-align: right;\n",
       "    }\n",
       "</style>\n",
       "<table border=\"1\" class=\"dataframe\">\n",
       "  <thead>\n",
       "    <tr style=\"text-align: right;\">\n",
       "      <th></th>\n",
       "      <th>mt</th>\n",
       "      <th>ribo</th>\n",
       "      <th>hb</th>\n",
       "      <th>n_cells_by_counts</th>\n",
       "      <th>mean_counts</th>\n",
       "      <th>log1p_mean_counts</th>\n",
       "      <th>pct_dropout_by_counts</th>\n",
       "      <th>total_counts</th>\n",
       "      <th>log1p_total_counts</th>\n",
       "    </tr>\n",
       "  </thead>\n",
       "  <tbody>\n",
       "    <tr>\n",
       "      <th>AL627309.1</th>\n",
       "      <td>False</td>\n",
       "      <td>False</td>\n",
       "      <td>False</td>\n",
       "      <td>8</td>\n",
       "      <td>0.001312</td>\n",
       "      <td>0.001311</td>\n",
       "      <td>99.868831</td>\n",
       "      <td>8.0</td>\n",
       "      <td>2.197225</td>\n",
       "    </tr>\n",
       "    <tr>\n",
       "      <th>AL627309.5</th>\n",
       "      <td>False</td>\n",
       "      <td>False</td>\n",
       "      <td>False</td>\n",
       "      <td>33</td>\n",
       "      <td>0.005411</td>\n",
       "      <td>0.005396</td>\n",
       "      <td>99.458928</td>\n",
       "      <td>33.0</td>\n",
       "      <td>3.526361</td>\n",
       "    </tr>\n",
       "    <tr>\n",
       "      <th>AL627309.4</th>\n",
       "      <td>False</td>\n",
       "      <td>False</td>\n",
       "      <td>False</td>\n",
       "      <td>4</td>\n",
       "      <td>0.000656</td>\n",
       "      <td>0.000656</td>\n",
       "      <td>99.934415</td>\n",
       "      <td>4.0</td>\n",
       "      <td>1.609438</td>\n",
       "    </tr>\n",
       "    <tr>\n",
       "      <th>AL669831.2</th>\n",
       "      <td>False</td>\n",
       "      <td>False</td>\n",
       "      <td>False</td>\n",
       "      <td>2</td>\n",
       "      <td>0.000328</td>\n",
       "      <td>0.000328</td>\n",
       "      <td>99.967208</td>\n",
       "      <td>2.0</td>\n",
       "      <td>1.098612</td>\n",
       "    </tr>\n",
       "    <tr>\n",
       "      <th>LINC01409</th>\n",
       "      <td>False</td>\n",
       "      <td>False</td>\n",
       "      <td>False</td>\n",
       "      <td>274</td>\n",
       "      <td>0.048697</td>\n",
       "      <td>0.047548</td>\n",
       "      <td>95.507460</td>\n",
       "      <td>297.0</td>\n",
       "      <td>5.697093</td>\n",
       "    </tr>\n",
       "  </tbody>\n",
       "</table>\n",
       "</div>"
      ],
      "text/plain": [
       "               mt   ribo     hb  n_cells_by_counts  mean_counts  \\\n",
       "AL627309.1  False  False  False                  8     0.001312   \n",
       "AL627309.5  False  False  False                 33     0.005411   \n",
       "AL627309.4  False  False  False                  4     0.000656   \n",
       "AL669831.2  False  False  False                  2     0.000328   \n",
       "LINC01409   False  False  False                274     0.048697   \n",
       "\n",
       "            log1p_mean_counts  pct_dropout_by_counts  total_counts  \\\n",
       "AL627309.1           0.001311              99.868831           8.0   \n",
       "AL627309.5           0.005396              99.458928          33.0   \n",
       "AL627309.4           0.000656              99.934415           4.0   \n",
       "AL669831.2           0.000328              99.967208           2.0   \n",
       "LINC01409            0.047548              95.507460         297.0   \n",
       "\n",
       "            log1p_total_counts  \n",
       "AL627309.1            2.197225  \n",
       "AL627309.5            3.526361  \n",
       "AL627309.4            1.609438  \n",
       "AL669831.2            1.098612  \n",
       "LINC01409             5.697093  "
      ]
     },
     "execution_count": 45,
     "metadata": {},
     "output_type": "execute_result"
    }
   ],
   "source": [
    "# View newly added transcript variables\n",
    "adata.var.head()"
   ]
  },
  {
   "cell_type": "code",
   "execution_count": null,
   "metadata": {},
   "outputs": [
    {
     "data": {
      "text/html": [
       "<div>\n",
       "<style scoped>\n",
       "    .dataframe tbody tr th:only-of-type {\n",
       "        vertical-align: middle;\n",
       "    }\n",
       "\n",
       "    .dataframe tbody tr th {\n",
       "        vertical-align: top;\n",
       "    }\n",
       "\n",
       "    .dataframe thead th {\n",
       "        text-align: right;\n",
       "    }\n",
       "</style>\n",
       "<table border=\"1\" class=\"dataframe\">\n",
       "  <thead>\n",
       "    <tr style=\"text-align: right;\">\n",
       "      <th></th>\n",
       "      <th>n_genes_by_counts</th>\n",
       "      <th>log1p_n_genes_by_counts</th>\n",
       "      <th>total_counts</th>\n",
       "      <th>log1p_total_counts</th>\n",
       "      <th>pct_counts_in_top_20_genes</th>\n",
       "      <th>total_counts_mt</th>\n",
       "      <th>log1p_total_counts_mt</th>\n",
       "      <th>pct_counts_mt</th>\n",
       "      <th>total_counts_ribo</th>\n",
       "      <th>log1p_total_counts_ribo</th>\n",
       "      <th>pct_counts_ribo</th>\n",
       "      <th>total_counts_hb</th>\n",
       "      <th>log1p_total_counts_hb</th>\n",
       "      <th>pct_counts_hb</th>\n",
       "    </tr>\n",
       "  </thead>\n",
       "  <tbody>\n",
       "    <tr>\n",
       "      <th>TAGGTACCATGGCCAC-1_1</th>\n",
       "      <td>6764</td>\n",
       "      <td>8.819518</td>\n",
       "      <td>24256.0</td>\n",
       "      <td>10.096460</td>\n",
       "      <td>8.381431</td>\n",
       "      <td>153.0</td>\n",
       "      <td>5.036952</td>\n",
       "      <td>0.630772</td>\n",
       "      <td>78.0</td>\n",
       "      <td>4.369448</td>\n",
       "      <td>0.321570</td>\n",
       "      <td>1.0</td>\n",
       "      <td>0.693147</td>\n",
       "      <td>0.004123</td>\n",
       "    </tr>\n",
       "    <tr>\n",
       "      <th>ATTCACTGTAACAGGC-1_1</th>\n",
       "      <td>6686</td>\n",
       "      <td>8.807921</td>\n",
       "      <td>19020.0</td>\n",
       "      <td>9.853299</td>\n",
       "      <td>8.175605</td>\n",
       "      <td>404.0</td>\n",
       "      <td>6.003887</td>\n",
       "      <td>2.124080</td>\n",
       "      <td>137.0</td>\n",
       "      <td>4.927254</td>\n",
       "      <td>0.720294</td>\n",
       "      <td>1.0</td>\n",
       "      <td>0.693147</td>\n",
       "      <td>0.005258</td>\n",
       "    </tr>\n",
       "    <tr>\n",
       "      <th>TAACTTCCAACCACGC-1_1</th>\n",
       "      <td>5158</td>\n",
       "      <td>8.548498</td>\n",
       "      <td>15645.0</td>\n",
       "      <td>9.657970</td>\n",
       "      <td>10.450623</td>\n",
       "      <td>221.0</td>\n",
       "      <td>5.402678</td>\n",
       "      <td>1.412592</td>\n",
       "      <td>231.0</td>\n",
       "      <td>5.446737</td>\n",
       "      <td>1.476510</td>\n",
       "      <td>0.0</td>\n",
       "      <td>0.000000</td>\n",
       "      <td>0.000000</td>\n",
       "    </tr>\n",
       "    <tr>\n",
       "      <th>TTGGGTACACGACAAG-1_1</th>\n",
       "      <td>4900</td>\n",
       "      <td>8.497195</td>\n",
       "      <td>15220.0</td>\n",
       "      <td>9.630431</td>\n",
       "      <td>9.290407</td>\n",
       "      <td>3.0</td>\n",
       "      <td>1.386294</td>\n",
       "      <td>0.019711</td>\n",
       "      <td>10.0</td>\n",
       "      <td>2.397895</td>\n",
       "      <td>0.065703</td>\n",
       "      <td>0.0</td>\n",
       "      <td>0.000000</td>\n",
       "      <td>0.000000</td>\n",
       "    </tr>\n",
       "    <tr>\n",
       "      <th>AGGCCACAGAGTCACG-1_1</th>\n",
       "      <td>5544</td>\n",
       "      <td>8.620652</td>\n",
       "      <td>13217.0</td>\n",
       "      <td>9.489335</td>\n",
       "      <td>7.687070</td>\n",
       "      <td>417.0</td>\n",
       "      <td>6.035481</td>\n",
       "      <td>3.155028</td>\n",
       "      <td>96.0</td>\n",
       "      <td>4.574711</td>\n",
       "      <td>0.726337</td>\n",
       "      <td>0.0</td>\n",
       "      <td>0.000000</td>\n",
       "      <td>0.000000</td>\n",
       "    </tr>\n",
       "  </tbody>\n",
       "</table>\n",
       "</div>"
      ],
      "text/plain": [
       "                      n_genes_by_counts  log1p_n_genes_by_counts  \\\n",
       "TAGGTACCATGGCCAC-1_1               6764                 8.819518   \n",
       "ATTCACTGTAACAGGC-1_1               6686                 8.807921   \n",
       "TAACTTCCAACCACGC-1_1               5158                 8.548498   \n",
       "TTGGGTACACGACAAG-1_1               4900                 8.497195   \n",
       "AGGCCACAGAGTCACG-1_1               5544                 8.620652   \n",
       "\n",
       "                      total_counts  log1p_total_counts  \\\n",
       "TAGGTACCATGGCCAC-1_1       24256.0           10.096460   \n",
       "ATTCACTGTAACAGGC-1_1       19020.0            9.853299   \n",
       "TAACTTCCAACCACGC-1_1       15645.0            9.657970   \n",
       "TTGGGTACACGACAAG-1_1       15220.0            9.630431   \n",
       "AGGCCACAGAGTCACG-1_1       13217.0            9.489335   \n",
       "\n",
       "                      pct_counts_in_top_20_genes  total_counts_mt  \\\n",
       "TAGGTACCATGGCCAC-1_1                    8.381431            153.0   \n",
       "ATTCACTGTAACAGGC-1_1                    8.175605            404.0   \n",
       "TAACTTCCAACCACGC-1_1                   10.450623            221.0   \n",
       "TTGGGTACACGACAAG-1_1                    9.290407              3.0   \n",
       "AGGCCACAGAGTCACG-1_1                    7.687070            417.0   \n",
       "\n",
       "                      log1p_total_counts_mt  pct_counts_mt  total_counts_ribo  \\\n",
       "TAGGTACCATGGCCAC-1_1               5.036952       0.630772               78.0   \n",
       "ATTCACTGTAACAGGC-1_1               6.003887       2.124080              137.0   \n",
       "TAACTTCCAACCACGC-1_1               5.402678       1.412592              231.0   \n",
       "TTGGGTACACGACAAG-1_1               1.386294       0.019711               10.0   \n",
       "AGGCCACAGAGTCACG-1_1               6.035481       3.155028               96.0   \n",
       "\n",
       "                      log1p_total_counts_ribo  pct_counts_ribo  \\\n",
       "TAGGTACCATGGCCAC-1_1                 4.369448         0.321570   \n",
       "ATTCACTGTAACAGGC-1_1                 4.927254         0.720294   \n",
       "TAACTTCCAACCACGC-1_1                 5.446737         1.476510   \n",
       "TTGGGTACACGACAAG-1_1                 2.397895         0.065703   \n",
       "AGGCCACAGAGTCACG-1_1                 4.574711         0.726337   \n",
       "\n",
       "                      total_counts_hb  log1p_total_counts_hb  pct_counts_hb  \n",
       "TAGGTACCATGGCCAC-1_1              1.0               0.693147       0.004123  \n",
       "ATTCACTGTAACAGGC-1_1              1.0               0.693147       0.005258  \n",
       "TAACTTCCAACCACGC-1_1              0.0               0.000000       0.000000  \n",
       "TTGGGTACACGACAAG-1_1              0.0               0.000000       0.000000  \n",
       "AGGCCACAGAGTCACG-1_1              0.0               0.000000       0.000000  "
      ]
     },
     "execution_count": 44,
     "metadata": {},
     "output_type": "execute_result"
    }
   ],
   "source": [
    "# View newly added cell variables\n",
    "adata.obs.head()"
   ]
  },
  {
   "cell_type": "code",
   "execution_count": 50,
   "metadata": {},
   "outputs": [
    {
     "data": {
      "image/png": "[encoded data removed]",
      "text/plain": [
       "<Figure size 804.6x480 with 1 Axes>"
      ]
     },
     "metadata": {},
     "output_type": "display_data"
    },
    {
     "data": {
      "image/png": "[encoded data removed]",
      "text/plain": [
       "<Figure size 804.6x480 with 1 Axes>"
      ]
     },
     "metadata": {},
     "output_type": "display_data"
    },
    {
     "data": {
      "image/png": "[encoded data removed]",
      "text/plain": [
       "<Figure size 804.6x480 with 1 Axes>"
      ]
     },
     "metadata": {},
     "output_type": "display_data"
    }
   ],
   "source": [
    "# plot \"n_genes_by_counts\", \"total_counts\" and \"pct_counts_mt\"\n",
    "sc.pl.violin(adata, 'total_counts')\n",
    "sc.pl.violin(adata, \"pct_counts_mt\")\n",
    "sc.pl.violin(adata, \"n_genes_by_counts\")"
   ]
  },
  {
   "cell_type": "code",
   "execution_count": 49,
   "metadata": {},
   "outputs": [
    {
     "data": {
      "image/png": "[encoded data removed]",
      "text/plain": [
       "<Figure size 810.02x480 with 2 Axes>"
      ]
     },
     "metadata": {},
     "output_type": "display_data"
    }
   ],
   "source": [
    "# Plot multiple variable\n",
    "sc.pl.scatter(adata, \"total_counts\", \"n_genes_by_counts\", color=\"pct_counts_mt\")"
   ]
  },
  {
   "cell_type": "code",
   "execution_count": null,
   "metadata": {},
   "outputs": [],
   "source": [
    "# import numpy as np\n",
    "# from scipy.stats import median_abs_deviation\n",
    "# import scanpy as sc\n",
    "\n",
    "# # Define a function to determine outliers based on MAD\n",
    "# def is_outlier(adata, metric: str, nmads: int):\n",
    "#     \"\"\"\n",
    "#     Identify outliers in an AnnData object based on a given metric and a threshold of MADs.\n",
    "\n",
    "#     Parameters:\n",
    "#         adata: AnnData object.\n",
    "#         metric: Metric column name in adata.obs to assess.\n",
    "#         nmads: Number of MADs to use as the permissive threshold.\n",
    "\n",
    "#     Returns:\n",
    "#         A boolean array where True indicates outliers.\n",
    "#     \"\"\"\n",
    "#     M = adata.obs[metric]\n",
    "#     outlier = (M < np.median(M) - nmads * median_abs_deviation(M)) | (\n",
    "#         M > np.median(M) + nmads * median_abs_deviation(M)\n",
    "#     )\n",
    "#     return outlier\n",
    "\n",
    "# # Apply the is_outlier function to the specified QC metrics\n",
    "# adata.obs[\"outlier\"] = (\n",
    "#     is_outlier(adata, \"log1p_total_counts\", 5)\n",
    "#     | is_outlier(adata, \"log1p_n_genes_by_counts\", 5)\n",
    "#     | is_outlier(adata, \"pct_counts_in_top_20_genes\", 5)\n",
    "# )\n",
    "\n",
    "# # Count the number of cells flagged as outliers\n",
    "# print(adata.obs.outlier.value_counts())\n",
    "\n",
    "# # Apply the is_outlier function for mitochondrial percentages with specific thresholds\n",
    "# adata.obs[\"mt_outlier\"] = is_outlier(adata, \"pct_counts_mt\", 3) | (\n",
    "#     adata.obs[\"pct_counts_mt\"] > 8\n",
    "# )\n",
    "\n",
    "# # Count the number of cells flagged as mitochondrial outliers\n",
    "# print(adata.obs.mt_outlier.value_counts())\n",
    "\n",
    "# # Print initial number of cells\n",
    "# print(f\"Total number of cells: {adata.n_obs}\")\n",
    "\n",
    "# # Filter the AnnData object to exclude outliers\n",
    "# adata = adata[(~adata.obs.outlier) & (~adata.obs.mt_outlier)].copy()\n",
    "\n",
    "# # Print the number of cells after filtering\n",
    "# print(f\"Number of cells after filtering of low-quality cells: {adata.n_obs}\")\n",
    "\n",
    "# # Plot total counts vs. number of genes by counts, coloring by mitochondrial percentage\n",
    "# p1 = sc.pl.scatter(adata, \"total_counts\", \"n_genes_by_counts\", color=\"pct_counts_mt\")\n"
   ]
  },
  {
   "cell_type": "markdown",
   "metadata": {},
   "source": [
    "# Wrangle Data"
   ]
  },
  {
   "cell_type": "markdown",
   "metadata": {},
   "source": [
    "explain"
   ]
  },
  {
   "cell_type": "code",
   "execution_count": null,
   "metadata": {},
   "outputs": [],
   "source": []
  },
  {
   "cell_type": "code",
   "execution_count": null,
   "metadata": {},
   "outputs": [],
   "source": []
  },
  {
   "cell_type": "markdown",
   "metadata": {},
   "source": [
    "# Explore Data"
   ]
  },
  {
   "cell_type": "markdown",
   "metadata": {},
   "source": [
    "explain"
   ]
  },
  {
   "cell_type": "code",
   "execution_count": null,
   "metadata": {},
   "outputs": [],
   "source": []
  },
  {
   "cell_type": "code",
   "execution_count": null,
   "metadata": {},
   "outputs": [],
   "source": []
  },
  {
   "cell_type": "markdown",
   "metadata": {},
   "source": [
    "# Analyze Data"
   ]
  },
  {
   "cell_type": "markdown",
   "metadata": {},
   "source": [
    "explain"
   ]
  },
  {
   "cell_type": "code",
   "execution_count": null,
   "metadata": {},
   "outputs": [],
   "source": []
  },
  {
   "cell_type": "code",
   "execution_count": null,
   "metadata": {},
   "outputs": [],
   "source": []
  },
  {
   "cell_type": "markdown",
   "metadata": {},
   "source": [
    "# Conclusions"
   ]
  },
  {
   "cell_type": "markdown",
   "metadata": {},
   "source": [
    "## Discoveries"
   ]
  },
  {
   "cell_type": "markdown",
   "metadata": {},
   "source": [
    "explain"
   ]
  },
  {
   "cell_type": "code",
   "execution_count": null,
   "metadata": {},
   "outputs": [],
   "source": []
  },
  {
   "cell_type": "markdown",
   "metadata": {},
   "source": [
    "## Future Directions"
   ]
  },
  {
   "cell_type": "markdown",
   "metadata": {},
   "source": [
    "explain"
   ]
  },
  {
   "cell_type": "code",
   "execution_count": null,
   "metadata": {},
   "outputs": [],
   "source": []
  },
  {
   "cell_type": "markdown",
   "metadata": {},
   "source": [
    "# End"
   ]
  },
  {
   "cell_type": "markdown",
   "metadata": {},
   "source": [
    "## Show Session Information"
   ]
  },
  {
   "cell_type": "code",
   "execution_count": 7,
   "metadata": {},
   "outputs": [
    {
     "data": {
      "text/html": [
       "<details>\n",
       "<summary>Click to view session information</summary>\n",
       "<pre>\n",
       "-----\n",
       "matplotlib          3.9.3\n",
       "numpy               2.0.2\n",
       "pandas              2.2.3\n",
       "scanpy              1.10.4\n",
       "scipy               1.14.1\n",
       "scvi                0.6.8\n",
       "seaborn             0.13.2\n",
       "session_info        1.0.0\n",
       "-----\n",
       "</pre>\n",
       "<details>\n",
       "<summary>Click to view modules imported as dependencies</summary>\n",
       "<pre>\n",
       "PIL                 11.0.0\n",
       "anndata             0.11.1\n",
       "asttokens           NA\n",
       "colorama            0.4.6\n",
       "comm                0.2.2\n",
       "cycler              0.12.1\n",
       "cython_runtime      NA\n",
       "dateutil            2.9.0.post0\n",
       "debugpy             1.8.9\n",
       "decorator           5.1.1\n",
       "executing           2.1.0\n",
       "h5py                3.12.1\n",
       "ipykernel           6.29.5\n",
       "jedi                0.19.2\n",
       "joblib              1.4.2\n",
       "kiwisolver          1.4.7\n",
       "legacy_api_wrap     NA\n",
       "llvmlite            0.43.0\n",
       "mpl_toolkits        NA\n",
       "natsort             8.4.0\n",
       "numba               0.60.0\n",
       "packaging           24.2\n",
       "parso               0.8.4\n",
       "patsy               1.0.1\n",
       "platformdirs        4.3.6\n",
       "prompt_toolkit      3.0.48\n",
       "psutil              6.1.0\n",
       "pure_eval           0.2.3\n",
       "pydev_ipython       NA\n",
       "pydevconsole        NA\n",
       "pydevd              3.2.3\n",
       "pydevd_file_utils   NA\n",
       "pydevd_plugins      NA\n",
       "pydevd_tracing      NA\n",
       "pygments            2.18.0\n",
       "pyparsing           3.2.0\n",
       "pythoncom           NA\n",
       "pytz                2024.2\n",
       "pywin32_bootstrap   NA\n",
       "pywin32_system32    NA\n",
       "pywintypes          NA\n",
       "six                 1.17.0\n",
       "sklearn             1.6.0\n",
       "stack_data          0.6.3\n",
       "statsmodels         0.14.4\n",
       "threadpoolctl       3.5.0\n",
       "torch               2.5.1+cpu\n",
       "torchgen            NA\n",
       "tornado             6.4.2\n",
       "tqdm                4.67.1\n",
       "traitlets           5.14.3\n",
       "typing_extensions   NA\n",
       "vscode              NA\n",
       "wcwidth             0.2.13\n",
       "win32api            NA\n",
       "win32com            NA\n",
       "zmq                 26.2.0\n",
       "</pre>\n",
       "</details> <!-- seems like this ends pre, so might as well be explicit -->\n",
       "<pre>\n",
       "-----\n",
       "IPython             8.30.0\n",
       "jupyter_client      8.6.3\n",
       "jupyter_core        5.7.2\n",
       "-----\n",
       "Python 3.12.7 (tags/v3.12.7:0b05ead, Oct  1 2024, 03:06:41) [MSC v.1941 64 bit (AMD64)]\n",
       "Windows-10-10.0.19045-SP0\n",
       "-----\n",
       "Session information updated at 2024-12-09 15:25\n",
       "</pre>\n",
       "</details>"
      ],
      "text/plain": [
       "<IPython.core.display.HTML object>"
      ]
     },
     "execution_count": 7,
     "metadata": {},
     "output_type": "execute_result"
    }
   ],
   "source": [
    "import session_info\n",
    "session_info.show()"
   ]
  },
  {
   "cell_type": "markdown",
   "metadata": {},
   "source": [
    "## Save Session Requirements"
   ]
  },
  {
   "cell_type": "code",
   "execution_count": 8,
   "metadata": {},
   "outputs": [],
   "source": [
    "# Replace spaces in notebook title with underscores\n",
    "filename = Notebook_title.replace(\" \", \"_\") + \"_requirements.txt\"\n",
    "\n",
    "# Run the pip freeze command and save the output txt file\n",
    "!pip freeze > $filename"
   ]
  }
 ],
 "metadata": {
  "kernelspec": {
   "display_name": ".venv",
   "language": "python",
   "name": "python3"
  },
  "language_info": {
   "codemirror_mode": {
    "name": "ipython",
    "version": 3
   },
   "file_extension": ".py",
   "mimetype": "text/x-python",
   "name": "python",
   "nbconvert_exporter": "python",
   "pygments_lexer": "ipython3",
   "version": "3.12.7"
  }
 },
 "nbformat": 4,
 "nbformat_minor": 2
}
